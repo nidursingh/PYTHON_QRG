{
 "cells": [
  {
   "cell_type": "markdown",
   "metadata": {},
   "source": [
    "//..\n",
    "###  Extend()\tAdd all elements of a list to the another list\n",
    "###  Insert()    Insert an item at the defined index\n",
    "### Remove()    Removes an item from the list\n",
    "### Pop()       Removes and returns an element at the given index\n",
    "### Clear()     Removes all items from the list\n",
    "### Index()     Returns the index of the first matched item\n",
    "### Count()     Returns the count of number of items passed as an argument\n",
    "### Sort()      Sort items in a list in ascending order\n",
    "### Reverse()   Reverse the order of items in the list\n",
    "### copy()      Returns a copy of the list\n",
    "..//"
   ]
  },
  {
   "cell_type": "code",
   "execution_count": 1,
   "metadata": {},
   "outputs": [
    {
     "data": {
      "text/plain": [
       "[1, 2, 3, 4, 5, 6, 7]"
      ]
     },
     "execution_count": 1,
     "metadata": {},
     "output_type": "execute_result"
    }
   ],
   "source": [
    "#  working with LIST \n",
    "list=[]\n",
    "# list of numbers \n",
    "listnum=[1,2,3,4,5,6,7]\n",
    "listnum"
   ]
  },
  {
   "cell_type": "code",
   "execution_count": 7,
   "metadata": {},
   "outputs": [
    {
     "name": "stdout",
     "output_type": "stream",
     "text": [
      "['a', 'x', 'y', 'z']\n",
      "a\n",
      "x\n",
      "y\n",
      "z\n"
     ]
    }
   ],
   "source": [
    "#list of strings\n",
    "liststr=['a',\"x\",\"y\",\"z\"]\n",
    "print(liststr)\n",
    "for i in range(len(liststr)):\n",
    "    print(liststr[i])"
   ]
  },
  {
   "cell_type": "code",
   "execution_count": 10,
   "metadata": {},
   "outputs": [
    {
     "name": "stdout",
     "output_type": "stream",
     "text": [
      "[['werwe', 2, 4, 'ewrwe'], [2, 3, 4], ['werw', 'erter']]\n",
      "werwe\n",
      "2\n",
      "4\n",
      "ewrwe\n",
      "2\n",
      "3\n",
      "4\n",
      "werw\n",
      "erter\n"
     ]
    },
    {
     "ename": "AttributeError",
     "evalue": "'list' object has no attribute 'shape'",
     "output_type": "error",
     "traceback": [
      "\u001b[1;31m---------------------------------------------------------------------------\u001b[0m",
      "\u001b[1;31mAttributeError\u001b[0m                            Traceback (most recent call last)",
      "\u001b[1;32m<ipython-input-10-1896269b639b>\u001b[0m in \u001b[0;36m<module>\u001b[1;34m\u001b[0m\n\u001b[0;32m      8\u001b[0m \u001b[1;33m\u001b[0m\u001b[0m\n\u001b[0;32m      9\u001b[0m \u001b[1;33m\u001b[0m\u001b[0m\n\u001b[1;32m---> 10\u001b[1;33m \u001b[1;32mfor\u001b[0m \u001b[0mi\u001b[0m \u001b[1;32min\u001b[0m \u001b[0mrange\u001b[0m\u001b[1;33m(\u001b[0m\u001b[1;33m(\u001b[0m\u001b[0md_list\u001b[0m\u001b[1;33m.\u001b[0m\u001b[0mshape\u001b[0m\u001b[1;33m[\u001b[0m\u001b[1;36m0\u001b[0m\u001b[1;33m]\u001b[0m\u001b[1;33m)\u001b[0m\u001b[1;33m)\u001b[0m\u001b[1;33m:\u001b[0m\u001b[1;33m\u001b[0m\u001b[1;33m\u001b[0m\u001b[0m\n\u001b[0m\u001b[0;32m     11\u001b[0m     \u001b[1;32mfor\u001b[0m \u001b[0mj\u001b[0m \u001b[1;32min\u001b[0m \u001b[0mrange\u001b[0m\u001b[1;33m(\u001b[0m\u001b[0mlen\u001b[0m\u001b[1;33m(\u001b[0m\u001b[0md_list\u001b[0m\u001b[1;33m[\u001b[0m\u001b[0mi\u001b[0m\u001b[1;33m]\u001b[0m\u001b[1;33m.\u001b[0m\u001b[0mshape\u001b[0m\u001b[1;33m[\u001b[0m\u001b[1;36m0\u001b[0m\u001b[1;33m]\u001b[0m\u001b[1;33m)\u001b[0m\u001b[1;33m)\u001b[0m\u001b[1;33m:\u001b[0m\u001b[1;33m\u001b[0m\u001b[1;33m\u001b[0m\u001b[0m\n\u001b[0;32m     12\u001b[0m         \u001b[0mprint\u001b[0m\u001b[1;33m(\u001b[0m\u001b[0md_list\u001b[0m\u001b[1;33m[\u001b[0m\u001b[0mi\u001b[0m\u001b[1;33m]\u001b[0m\u001b[1;33m[\u001b[0m\u001b[0mj\u001b[0m\u001b[1;33m]\u001b[0m\u001b[1;33m)\u001b[0m\u001b[1;33m\u001b[0m\u001b[1;33m\u001b[0m\u001b[0m\n",
      "\u001b[1;31mAttributeError\u001b[0m: 'list' object has no attribute 'shape'"
     ]
    }
   ],
   "source": [
    "# 2D list\n",
    "d_list=[]\n",
    "d_list=[['werwe',2,4,'ewrwe'],[2,3,4],['werw','erter']]\n",
    "print(d_list)\n",
    "for i in range(len(d_list)):\n",
    "    for j in range(len(d_list[i])):\n",
    "        print(d_list[i][j])\n",
    "\n",
    "\n"
   ]
  },
  {
   "cell_type": "markdown",
   "metadata": {},
   "source": [
    "# # below code will generate error \n",
    "# as list  objet has no attribute shape"
   ]
  },
  {
   "cell_type": "code",
   "execution_count": 11,
   "metadata": {},
   "outputs": [
    {
     "ename": "AttributeError",
     "evalue": "'list' object has no attribute 'shape'",
     "output_type": "error",
     "traceback": [
      "\u001b[1;31m---------------------------------------------------------------------------\u001b[0m",
      "\u001b[1;31mAttributeError\u001b[0m                            Traceback (most recent call last)",
      "\u001b[1;32m<ipython-input-11-8ac10223d91b>\u001b[0m in \u001b[0;36m<module>\u001b[1;34m\u001b[0m\n\u001b[1;32m----> 1\u001b[1;33m \u001b[1;32mfor\u001b[0m \u001b[0mi\u001b[0m \u001b[1;32min\u001b[0m \u001b[0mrange\u001b[0m\u001b[1;33m(\u001b[0m\u001b[1;33m(\u001b[0m\u001b[0md_list\u001b[0m\u001b[1;33m.\u001b[0m\u001b[0mshape\u001b[0m\u001b[1;33m[\u001b[0m\u001b[1;36m0\u001b[0m\u001b[1;33m]\u001b[0m\u001b[1;33m)\u001b[0m\u001b[1;33m)\u001b[0m\u001b[1;33m:\u001b[0m\u001b[1;33m\u001b[0m\u001b[1;33m\u001b[0m\u001b[0m\n\u001b[0m\u001b[0;32m      2\u001b[0m     \u001b[1;32mfor\u001b[0m \u001b[0mj\u001b[0m \u001b[1;32min\u001b[0m \u001b[0mrange\u001b[0m\u001b[1;33m(\u001b[0m\u001b[0mlen\u001b[0m\u001b[1;33m(\u001b[0m\u001b[0md_list\u001b[0m\u001b[1;33m[\u001b[0m\u001b[0mi\u001b[0m\u001b[1;33m]\u001b[0m\u001b[1;33m.\u001b[0m\u001b[0mshape\u001b[0m\u001b[1;33m[\u001b[0m\u001b[1;36m0\u001b[0m\u001b[1;33m]\u001b[0m\u001b[1;33m)\u001b[0m\u001b[1;33m)\u001b[0m\u001b[1;33m:\u001b[0m\u001b[1;33m\u001b[0m\u001b[1;33m\u001b[0m\u001b[0m\n\u001b[0;32m      3\u001b[0m         \u001b[0mprint\u001b[0m\u001b[1;33m(\u001b[0m\u001b[0md_list\u001b[0m\u001b[1;33m[\u001b[0m\u001b[0mi\u001b[0m\u001b[1;33m]\u001b[0m\u001b[1;33m[\u001b[0m\u001b[0mj\u001b[0m\u001b[1;33m]\u001b[0m\u001b[1;33m)\u001b[0m\u001b[1;33m\u001b[0m\u001b[1;33m\u001b[0m\u001b[0m\n",
      "\u001b[1;31mAttributeError\u001b[0m: 'list' object has no attribute 'shape'"
     ]
    }
   ],
   "source": [
    "for i in range((d_list.shape[0])):\n",
    "    for j in range(len(d_list[i].shape[0])):\n",
    "        print(d_list[i][j])"
   ]
  },
  {
   "cell_type": "code",
   "execution_count": 30,
   "metadata": {},
   "outputs": [
    {
     "name": "stdout",
     "output_type": "stream",
     "text": [
      "[1, 2, 'newitem', ('dfsd', 5), ['23423', '234234', 7, 5, 3, 6]]\n"
     ]
    }
   ],
   "source": [
    "list1=[]\n",
    "### Append method\n",
    "list1.append(1)\n",
    "list1.append(2)\n",
    "list1.append('newitem')\n",
    "### adding tuples to the list\n",
    "list1.append(('dfsd',5))\n",
    "### adding list to the list\n",
    "list1.append((['23423','234234',7,5,3,6]))\n",
    "print(list1)\n"
   ]
  },
  {
   "cell_type": "code",
   "execution_count": 31,
   "metadata": {},
   "outputs": [
    {
     "name": "stdout",
     "output_type": "stream",
     "text": [
      "[1, 2, 'newitem', ('dfsd', 5), ['23423', '234234', 7, 5, 3, 6]]\n",
      "[1, 'string added', 2, 'newitem', ('dfsd', 5), ['23423', '234234', 7, 5, 3, 6]]\n"
     ]
    }
   ],
   "source": [
    "### Adding elements in the list using \"INSERT\"\n",
    "### using insert any element can be inserted at any location\n",
    "### it requires two argument (position,value)\n",
    "print(list1)\n",
    "list1.insert(1,'string added')\n",
    "print(list1)"
   ]
  },
  {
   "cell_type": "code",
   "execution_count": 38,
   "metadata": {},
   "outputs": [
    {
     "name": "stdout",
     "output_type": "stream",
     "text": [
      "[2, 4, 5, 234, 'gfsd', 'sfdg', (3, 4, '345'), ['sdf', 'sdf', 345]]\n"
     ]
    }
   ],
   "source": [
    "### Adding multiple elements in the list using \"EXTEND\"\n",
    "### EXTEND method adds elements only at the end of the list\n",
    "list2=[2,4,5]\n",
    "list2.extend([234,'gfsd','sfdg',(3,4,'345'),['sdf','sdf',345]])\n",
    "print(list2)"
   ]
  },
  {
   "cell_type": "code",
   "execution_count": 44,
   "metadata": {},
   "outputs": [
    {
     "name": "stdout",
     "output_type": "stream",
     "text": [
      "2\n",
      "4\n",
      "5\n",
      "234\n",
      "gfsd\n",
      "sfdg\n",
      "(3, 4, '345')\n",
      "['sdf', 'sdf', 345]\n",
      "sdf\n",
      "sdf\n",
      "345\n",
      "(3, 4, '345')\n"
     ]
    }
   ],
   "source": [
    "## Accessing the list\n",
    "for i in range(len(list2)):\n",
    "    print(list2[i])\n",
    "   # for j in range(len(list2[i])):\n",
    "   #     print(d_list[i][j])\n",
    "print(list2[7][0])\n",
    "print(list2[7][1])\n",
    "print(list2[7][2])\n",
    "print(list2[6])\n",
    "\n"
   ]
  },
  {
   "cell_type": "code",
   "execution_count": 47,
   "metadata": {},
   "outputs": [
    {
     "name": "stdout",
     "output_type": "stream",
     "text": [
      "['sdf', 'sdf', 345]\n",
      "345\n",
      "sfdg\n"
     ]
    }
   ],
   "source": [
    "### negative indexing\n",
    "##accessing last element of the list\n",
    "print(list2[-1])\n",
    "print(list2[-1][-1])\n",
    "\n",
    "## accessing 3rd lst\n",
    "print(list2[-3])"
   ]
  },
  {
   "cell_type": "code",
   "execution_count": 49,
   "metadata": {},
   "outputs": [
    {
     "name": "stdout",
     "output_type": "stream",
     "text": [
      "[9, 8, 7, 6, 5, 4, 3, 2, 1]\n",
      "[9, 8, 6, 5, 4, 2, 1]\n"
     ]
    }
   ],
   "source": [
    "# removing the lements from the list using REMOVE()\n",
    "list3=[9,8,7,6,5,4,3,2,1]\n",
    "print(list3)\n",
    "list3.remove(3)\n",
    "list3.remove(7)\n",
    "print(list3)"
   ]
  },
  {
   "cell_type": "code",
   "execution_count": 50,
   "metadata": {},
   "outputs": [
    {
     "name": "stdout",
     "output_type": "stream",
     "text": [
      "[9, 8, 7, 6, 5, 4, 3, 2, 1]\n",
      "[9, 8, 7, 5, 4, 3, 2]\n"
     ]
    }
   ],
   "source": [
    "# removing the lements from the list using POP() method\n",
    "# POP() removes the lst element\n",
    "list4=[9,8,7,6,5,4,3,2,1]\n",
    "print(list4)\n",
    "list4.pop()\n",
    "list4.pop(3)\n",
    "print(list4)"
   ]
  },
  {
   "cell_type": "code",
   "execution_count": 60,
   "metadata": {},
   "outputs": [
    {
     "name": "stdout",
     "output_type": "stream",
     "text": [
      "[9, 8, 7, 5, 4, 3, 2]\n",
      "[2, 3, 4, 5, 7, 8, 9]\n"
     ]
    }
   ],
   "source": [
    "## Copy a list to another list\n",
    "list5=list4.copy()\n",
    "print(list5)\n",
    "list5.sort()\n",
    "print(list5) "
   ]
  },
  {
   "cell_type": "code",
   "execution_count": 55,
   "metadata": {},
   "outputs": [
    {
     "name": "stdout",
     "output_type": "stream",
     "text": [
      "None\n"
     ]
    }
   ],
   "source": [
    "list6=list5.sort()\n",
    "print(list6)"
   ]
  },
  {
   "cell_type": "code",
   "execution_count": 61,
   "metadata": {},
   "outputs": [
    {
     "name": "stdout",
     "output_type": "stream",
     "text": [
      "4\n"
     ]
    }
   ],
   "source": [
    "## counting a particular element in the list\n",
    "list6 = ['a', 'a', 'a', 'b', 'b', 'a', 'c', 'b'] \n",
    "print(list6.count('a'))"
   ]
  },
  {
   "cell_type": "code",
   "execution_count": 63,
   "metadata": {},
   "outputs": [
    {
     "name": "stdout",
     "output_type": "stream",
     "text": [
      "2\n"
     ]
    }
   ],
   "source": [
    "list7 = ['Cat', 'Bat', 'Sat', 'Cat', 'cat', 'Mat']\n",
    "print(list7.count('Cat'))\n"
   ]
  },
  {
   "cell_type": "code",
   "execution_count": null,
   "metadata": {},
   "outputs": [],
   "source": []
  }
 ],
 "metadata": {
  "kernelspec": {
   "display_name": "Python 3",
   "language": "python",
   "name": "python3"
  },
  "language_info": {
   "codemirror_mode": {
    "name": "ipython",
    "version": 3
   },
   "file_extension": ".py",
   "mimetype": "text/x-python",
   "name": "python",
   "nbconvert_exporter": "python",
   "pygments_lexer": "ipython3",
   "version": "3.7.3"
  }
 },
 "nbformat": 4,
 "nbformat_minor": 2
}
